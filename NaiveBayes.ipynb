{
  "cells": [
    {
      "cell_type": "markdown",
      "metadata": {
        "id": "view-in-github",
        "colab_type": "text"
      },
      "source": [
        "<a href=\"https://colab.research.google.com/github/TuMyXx93/Analisis_de_datos_etapa4/blob/main/NaiveBayes.ipynb\" target=\"_parent\"><img src=\"https://colab.research.google.com/assets/colab-badge.svg\" alt=\"Open In Colab\"/></a>"
      ]
    },
    {
      "cell_type": "markdown",
      "metadata": {
        "id": "Y8lJzECPhhVj"
      },
      "source": [
        "# Naive Bayes\n",
        "\n",
        "- **Calcular la probabilidad posterior:** para clasificar un nuevo paciente como infectado o no infectado, podemos utilizar la fórmula de Bayes:\n",
        "\n",
        "`P(infectado | síntomas) = P(síntomas | infectado) * P(infectado) / P(síntomas)`\n",
        "\n",
        "`P(no infectado | síntomas) = P(síntomas | no infectado) * P(no infectado) / P(síntomas)`"
      ]
    },
    {
      "cell_type": "markdown",
      "metadata": {
        "id": "mrE6TGq5kY3J"
      },
      "source": [
        "# COVID-19 Verificador de síntomas\n",
        "## ¿Predecir si alguien tiene coronavirus o no?\n",
        "\n",
        "Para este ejercicio estaré utilizando el dataset de Kaggle, en el cuál se presentan datos de [COVID-19](https://www.kaggle.com/datasets/iamhungundji/covid19-symptoms-checker)."
      ]
    },
    {
      "cell_type": "code",
      "execution_count": 26,
      "metadata": {
        "id": "kJSPXgmVhgjT"
      },
      "outputs": [],
      "source": [
        "# Primero necesitamos importar algunas bibliotecas y cargar el dataset.\n",
        "import pandas as pd\n",
        "import numpy as np\n",
        "from sklearn.model_selection import train_test_split\n",
        "from sklearn.naive_bayes import GaussianNB\n",
        "from sklearn.metrics import accuracy_score"
      ]
    },
    {
      "cell_type": "code",
      "execution_count": 34,
      "metadata": {
        "id": "9bD5Q2oDxPqk"
      },
      "outputs": [],
      "source": [
        "# Cargar el dataset\n",
        "data = pd.read_csv('Raw-Data.csv')"
      ]
    },
    {
      "cell_type": "code",
      "execution_count": 35,
      "metadata": {
        "colab": {
          "base_uri": "https://localhost:8080/"
        },
        "id": "6AQ-oibSxTby",
        "outputId": "9450adb8-c331-4ffb-921b-d560c6c2bc5b"
      },
      "outputs": [
        {
          "output_type": "stream",
          "name": "stdout",
          "text": [
            "              Country    Age       Gender  \\\n",
            "0               China    0-9         Male   \n",
            "1               Italy  10-19       Female   \n",
            "2                Iran  20-24  Transgender   \n",
            "3  Republic of Korean  25-59          NaN   \n",
            "4              France    60+          NaN   \n",
            "\n",
            "                                            Symptoms  \\\n",
            "0  Fever,Tiredness,Dry-Cough,Difficulty-in-Breath...   \n",
            "1  Fever,Tiredness,Dry-Cough,Difficulty-in-Breathing   \n",
            "2                          Fever,Tiredness,Dry-Cough   \n",
            "3                                    Fever,Tiredness   \n",
            "4                                              Fever   \n",
            "\n",
            "                        Experiencing_Symptoms  Severity    Contact  \n",
            "0  Pains,Nasal-Congestion,Runny-Nose,Diarrhea      Mild        Yes  \n",
            "1           Pains,Nasal-Congestion,Runny-Nose  Moderate         No  \n",
            "2                      Pains,Nasal-Congestion    Severe  Dont-Know  \n",
            "3                                       Pains      None        NaN  \n",
            "4        Nasal-Congestion,Runny-Nose,Diarrhea       NaN        NaN  \n"
          ]
        }
      ],
      "source": [
        "# Ver las primeras filas del dataset\n",
        "print(data.head())"
      ]
    },
    {
      "cell_type": "code",
      "execution_count": 36,
      "metadata": {
        "colab": {
          "base_uri": "https://localhost:8080/"
        },
        "id": "pPzBmTwp2tPI",
        "outputId": "a7103f9a-e4c0-423b-c75f-e32ff8ee56b5"
      },
      "outputs": [
        {
          "output_type": "stream",
          "name": "stdout",
          "text": [
            "Index(['Country', 'Age', 'Gender', 'Symptoms', 'Experiencing_Symptoms',\n",
            "       'Severity', 'Contact'],\n",
            "      dtype='object')\n"
          ]
        }
      ],
      "source": [
        "print(data.columns)"
      ]
    },
    {
      "cell_type": "markdown",
      "source": [
        "### Una vez que hemos cargado el dataset, necesitamos dividirlo en conjuntos de entrenamiento y prueba."
      ],
      "metadata": {
        "id": "NcI8K4o9H3fN"
      }
    },
    {
      "cell_type": "code",
      "execution_count": 52,
      "metadata": {
        "id": "SHL-wpI-xbsp"
      },
      "outputs": [],
      "source": [
        "# Dividir el dataset en características (X) y etiquetas (y)\n",
        "X = data.drop('Symptoms', axis=1)\n",
        "y = data['Symptoms']\n",
        "\n",
        "# Dividir los datos en conjuntos de entrenamiento y prueba\n",
        "# X_train, X_test, y_train, y_test = train_test_split(X, y, test_size=0.2, random_state=42)\n"
      ]
    },
    {
      "cell_type": "markdown",
      "source": [
        "- Debemos tener en cuenta que el clasificador **Naive Bayes** de scikit-learn **espera que las características de entrada sean numéricas**, ya que en el caso **de haber datos no numéricos** `(por ejemplo, ‘Dry-Cough’ es una cadena de caracteres)` tendremos que preprocesar los datos y convertir todas las características categóricas en numéricas.\n",
        "\n",
        "- Un enfoque común para convertir características categóricas en numéricas es utilizar la técnica de `codificación one-hot`. La codificación one-hot crea nuevas columnas binarias `(0 o 1)` para cada valor único en la característica categórica. Podemos utilizar la función `pd.get_dummies()` **de pandas** para realizar la codificación one-hot en tu conjunto de datos. A continuación se realiza la técnica de codificación:\n"
      ],
      "metadata": {
        "id": "lNTOluQdNVzx"
      }
    },
    {
      "cell_type": "code",
      "source": [
        "# Realizar la codificación one-hot en las características categóricas\n",
        "X_encoded = pd.get_dummies(X)\n",
        "\n",
        "# Dividir los datos en conjuntos de entrenamiento y prueba\n",
        "X_train, X_test, y_train, y_test = train_test_split(X_encoded, y, test_size=0.2, random_state=42)\n"
      ],
      "metadata": {
        "id": "GXJZCIh2K6Kw"
      },
      "execution_count": 53,
      "outputs": []
    },
    {
      "cell_type": "markdown",
      "source": [
        "### Ahora, podemos entrenar el clasificador Naive Bayes y realizar predicciones."
      ],
      "metadata": {
        "id": "pBRStf7BIRGE"
      }
    },
    {
      "cell_type": "code",
      "source": [
        "# Crear y entrenar el clasificador Naive Bayes\n",
        "gnb = GaussianNB()\n",
        "gnb.fit(X_train, y_train)\n",
        "\n",
        "# Realizar predicciones en el conjunto de prueba\n",
        "y_pred = gnb.predict(X_test)"
      ],
      "metadata": {
        "id": "wKKtfZ5HIWlX"
      },
      "execution_count": 54,
      "outputs": []
    },
    {
      "cell_type": "markdown",
      "source": [
        "### Finalmente, podemos evaluar la precisión de nuestro clasificador."
      ],
      "metadata": {
        "id": "UGjc75KTLM4q"
      }
    },
    {
      "cell_type": "code",
      "source": [
        "# Calcular la precisión del clasificador\n",
        "accuracy = accuracy_score(y_test, y_pred)\n",
        "print(\"Precisión del clasificador Naive Bayes:\", accuracy)"
      ],
      "metadata": {
        "colab": {
          "base_uri": "https://localhost:8080/"
        },
        "id": "wVlwFNybLQ03",
        "outputId": "3beb04f2-f972-4839-c18c-c2700dbfbe40"
      },
      "execution_count": 55,
      "outputs": [
        {
          "output_type": "stream",
          "name": "stdout",
          "text": [
            "Precisión del clasificador Naive Bayes: 0.0\n"
          ]
        }
      ]
    },
    {
      "cell_type": "markdown",
      "source": [
        "Este código muestra cómo cargar el dataset, dividirlo en conjuntos de entrenamiento y prueba, entrenar un clasificador **Naive Bayes** utilizando la biblioteca scikit-learn y evaluar la precisión del clasificador en función de las predicciones realizadas. Si deseas obtener la probabilidad posterior para cada clase, puedes hacerlo utilizando el método `predict_proba`:"
      ],
      "metadata": {
        "id": "dB8DGtKpLdJr"
      }
    },
    {
      "cell_type": "code",
      "source": [
        "# Obtener la probabilidad posterior para cada clase\n",
        "y_prob = gnb.predict_proba(X_test)\n",
        "\n",
        "# Imprimir las primeras 10 probabilidades posteriores\n",
        "print(y_prob[:10])"
      ],
      "metadata": {
        "colab": {
          "base_uri": "https://localhost:8080/"
        },
        "id": "5vDp9udyLp0y",
        "outputId": "179b23e9-5c98-43ac-972a-531d0a90801c"
      },
      "execution_count": 57,
      "outputs": [
        {
          "output_type": "stream",
          "name": "stdout",
          "text": [
            "[[0.25000071 0.25000071 0.25000071 0.         0.         0.\n",
            "  0.         0.         0.25000071 0.         0.         0.        ]\n",
            " [0.25000071 0.25000071 0.25000071 0.         0.         0.\n",
            "  0.         0.         0.25000071 0.         0.         0.        ]\n",
            " [0.25000024 0.25000024 0.25000024 0.         0.         0.\n",
            "  0.         0.         0.25000024 0.         0.         0.        ]\n",
            " [0.25       0.25       0.25       0.         0.         0.\n",
            "  0.         0.         0.25       0.         0.         0.        ]]\n"
          ]
        }
      ]
    },
    {
      "cell_type": "markdown",
      "source": [
        "---\n",
        "Finalmente esto te dará la probabilidad posterior para cada paciente en el conjunto de prueba, que puedes usar para analizar más a fondo el rendimiento del clasificador.\n",
        "---"
      ],
      "metadata": {
        "id": "8SbXD0PcQu1E"
      }
    },
    {
      "cell_type": "markdown",
      "source": [
        "# Autor: Wilson Tumiña Tumiña\n",
        "### Curso: Análisis de Datos\n",
        "### Fecha: Mayo del 2023\n",
        "### Contactos:\n",
        "\n",
        "**GitHub** - [TuMyXx93](https://github.com/TuMyXx93)\n",
        "\n",
        "**Twitter** - [Tumix19](https://twitter.com/Tumix19)\n",
        "\n",
        "**LinkedIn** - [Wilson Tumi](https://www.linkedin.com/in/wilson-tumi-9982011a9/)\n",
        "\n",
        "**Platzi** - [Wilson Tumi](https://platzi.com/p/wtumi/)"
      ],
      "metadata": {
        "id": "XMDAoo7bTiJQ"
      }
    }
  ],
  "metadata": {
    "colab": {
      "provenance": [],
      "authorship_tag": "ABX9TyNiqujqZKU74lV49/KhDX65",
      "include_colab_link": true
    },
    "kernelspec": {
      "display_name": "Python 3",
      "name": "python3"
    },
    "language_info": {
      "name": "python"
    }
  },
  "nbformat": 4,
  "nbformat_minor": 0
}